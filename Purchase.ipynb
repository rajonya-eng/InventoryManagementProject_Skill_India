{
  "nbformat": 4,
  "nbformat_minor": 0,
  "metadata": {
    "colab": {
      "name": "Purchase.ipynb",
      "provenance": []
    },
    "kernelspec": {
      "name": "python3",
      "display_name": "Python 3"
    },
    "language_info": {
      "name": "python"
    }
  },
  "cells": [
    {
      "cell_type": "code",
      "metadata": {
        "id": "aHJLKTPyJxQl"
      },
      "source": [
        "import json"
      ],
      "execution_count": 1,
      "outputs": []
    },
    {
      "cell_type": "markdown",
      "metadata": {
        "id": "ZKGawHZlqmlx"
      },
      "source": [
        "Inventory is read from record.json"
      ]
    },
    {
      "cell_type": "code",
      "metadata": {
        "id": "A7l7ekSHSyLU"
      },
      "source": [
        "fd = open(\"record.json\", 'r')\n",
        "r = fd.read()\n",
        "fd.close()"
      ],
      "execution_count": 2,
      "outputs": []
    },
    {
      "cell_type": "code",
      "metadata": {
        "id": "nzJK0tIZTKNB"
      },
      "source": [
        "record = json.loads(r)"
      ],
      "execution_count": 3,
      "outputs": []
    },
    {
      "cell_type": "markdown",
      "metadata": {
        "id": "hRG-WthRqvRL"
      },
      "source": [
        "A new json file to store the list of the bill of the products purchased created\n"
      ]
    },
    {
      "cell_type": "code",
      "metadata": {
        "id": "VWMxP9HLT9zQ"
      },
      "source": [
        "fd = open(\"bill.json\",'w')\n",
        "fd.close()"
      ],
      "execution_count": 4,
      "outputs": []
    },
    {
      "cell_type": "markdown",
      "metadata": {
        "id": "L6inCC1Yq4zU"
      },
      "source": [
        "A dictionary record2 created\n"
      ]
    },
    {
      "cell_type": "code",
      "metadata": {
        "id": "VwnuXzsfVMnA"
      },
      "source": [
        "record2={}"
      ],
      "execution_count": 5,
      "outputs": []
    },
    {
      "cell_type": "code",
      "metadata": {
        "id": "iFIuF9jopdYr"
      },
      "source": [
        "total = 0"
      ],
      "execution_count": 6,
      "outputs": []
    },
    {
      "cell_type": "markdown",
      "metadata": {
        "id": "4fbYnzhyq-Ft"
      },
      "source": [
        "The products are listed. If the quantity of the product required by the buyer is available in the record, the details of the amount to be paid by the buyer is updated in bill.json and the same quantity of the product is reduced from record.json."
      ]
    },
    {
      "cell_type": "code",
      "metadata": {
        "colab": {
          "base_uri": "https://localhost:8080/"
        },
        "id": "qVZsRgjbTR0V",
        "outputId": "a5391a4e-a896-4804-a165-49bb77637b1a"
      },
      "source": [
        "print(\"The products are:\" )\n",
        "for key in record.keys():\n",
        "  print(record[key]['Product_name'] )\n",
        "product = input(\"Enter the product you want to purchase: \")\n",
        "quantity = int(input(\"Enter the quantity of the product you want to purchase: \"))\n",
        "for key in record.keys():\n",
        "  if(record[key]['Product_name']==product):\n",
        "    id = key\n",
        "if(record[id]['Quantity']<quantity):\n",
        "  print(\"Sorry this product has been sold out :(\")\n",
        "else:\n",
        "  record[id]['Quantity'] -= quantity \n",
        "  price = record[id]['Our_Price']*quantity\n",
        "  tax= (record[id]['Tax_Percentage']/100)*price\n",
        "  net_amount = tax + price\n",
        "  total+=net_amount\n",
        "  record2 = {'Product': product, 'Quantity':quantity, 'MRP': record[id]['MRP']*quantity, 'Our Price': price, 'Taxes and Charges': tax, 'Net amount': net_amount   }\n",
        "\n",
        "  js = json.dumps(record2)\n",
        "  js1 = json.dumps(record)\n",
        "  fd = open(\"record.json\",'w')\n",
        "  fd.write(js1)\n",
        "  fd.close()\n",
        "  fd1 = open(\"bill.json\",'a')\n",
        "  fd1.write(js+\"\\n\")\n",
        "  fd1.close()\n"
      ],
      "execution_count": 11,
      "outputs": [
        {
          "output_type": "stream",
          "name": "stdout",
          "text": [
            "The products are:\n",
            "Cadbury Dairy Milk\n",
            "Towel\n",
            "Tooth paste\n",
            "Hand Wash\n",
            "Bread\n",
            "French Fries\n",
            "Lassi\n",
            "Vinegar\n",
            "Pencil Box\n",
            "Water Bottle\n",
            "Almonds\n",
            "Dates\n",
            "Perfume\n",
            "Kajal\n",
            "Shampoo\n",
            "Soap\n",
            "Tooth Brush\n",
            "Lays\n",
            "Eraser\n",
            "Pen\n",
            "Pencil\n",
            "Pencil Cutter\n",
            "Mask\n",
            "Horlicks\n",
            "Mustard Oil\n",
            "Soyabean Oil\n",
            "Tomato Sauce\n",
            "Soya Sauce\n",
            "Soyabean\n",
            "Cocoa Powder\n",
            "Enter the product you want to purchase: Tooth Brush\n",
            "Enter the quantity of the product you want to purchase: 60\n",
            "Sorry this product has been sold out :(\n"
          ]
        }
      ]
    },
    {
      "cell_type": "markdown",
      "metadata": {
        "id": "PYYv18qGr2DG"
      },
      "source": [
        "The total amount to be paid by the buyer is updated to bill.json ."
      ]
    },
    {
      "cell_type": "code",
      "metadata": {
        "id": "3jFCsuoIfvZ4"
      },
      "source": [
        "fd = open(\"bill.json\", 'a')\n",
        "fd.write(\"Total Amount: \"+str(total))\n",
        "fd.close()\n"
      ],
      "execution_count": 12,
      "outputs": []
    }
  ]
}
