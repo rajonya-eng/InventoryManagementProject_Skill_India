{
  "nbformat": 4,
  "nbformat_minor": 0,
  "metadata": {
    "colab": {
      "name": "Copy of record.ipynb",
      "provenance": [],
      "collapsed_sections": []
    },
    "kernelspec": {
      "name": "python3",
      "display_name": "Python 3"
    },
    "language_info": {
      "name": "python"
    }
  },
  "cells": [
    {
      "cell_type": "markdown",
      "metadata": {
        "id": "NX6lQrlXR8NY"
      },
      "source": [
        ""
      ]
    },
    {
      "cell_type": "code",
      "metadata": {
        "id": "sBx8cZkuR8jr"
      },
      "source": [
        "import json"
      ],
      "execution_count": 2,
      "outputs": []
    },
    {
      "cell_type": "code",
      "metadata": {
        "id": "K4eMbkUxJZVc"
      },
      "source": [
        "fd = open(\"record.json\", 'w')"
      ],
      "execution_count": 3,
      "outputs": []
    },
    {
      "cell_type": "code",
      "metadata": {
        "id": "SsuK-YayTanh"
      },
      "source": [
        "fd.close()"
      ],
      "execution_count": 4,
      "outputs": []
    },
    {
      "cell_type": "code",
      "metadata": {
        "id": "mcLSgM-XeuWl"
      },
      "source": [
        "record = {1000:{'Product_name': \"Cadbury Dairy Milk\", 'MRP': 50.0, 'Our_Price': 50*0.9, 'Quantity': 75, 'Tax_Percentage': 5 }}"
      ],
      "execution_count": 5,
      "outputs": []
    },
    {
      "cell_type": "code",
      "metadata": {
        "id": "XWhp54N3TrPG",
        "colab": {
          "base_uri": "https://localhost:8080/"
        },
        "outputId": "37d204b9-0e2e-4b42-9935-2485dc91eb38"
      },
      "source": [
        "id = input(\"Enter id:\")\n",
        "name = input(\"Enter product name:\")\n",
        "MRP = float(input(\"Enter MRP:\"))\n",
        "quant = int(input(\"Enter quantity:\"))\n",
        "taxpercentage = int(input(\"Enter tax percentage:\"))\n",
        "record[id] = {'Product_name': name, 'MRP': MRP, 'Our_Price': MRP*0.9, 'Quantity': quant, 'Tax_Percentage': taxpercentage }\n",
        "\n",
        "js = json.dumps(record)\n",
        "\n"
      ],
      "execution_count": 36,
      "outputs": [
        {
          "name": "stdout",
          "output_type": "stream",
          "text": [
            "Enter id:1029\n",
            "Enter product name:Cocoa Powder\n",
            "Enter MRP:168\n",
            "Enter quantity:33\n",
            "Enter tax percentage:6\n"
          ]
        }
      ]
    },
    {
      "cell_type": "code",
      "metadata": {
        "colab": {
          "base_uri": "https://localhost:8080/"
        },
        "id": "bJCQroUxdVGv",
        "outputId": "30960cfb-e2a2-408c-f144-d174f0ab403e"
      },
      "source": [
        "record"
      ],
      "execution_count": 37,
      "outputs": [
        {
          "output_type": "execute_result",
          "data": {
            "text/plain": [
              "{1000: {'MRP': 50.0,\n",
              "  'Our_Price': 45.0,\n",
              "  'Product_name': 'Cadbury Dairy Milk',\n",
              "  'Quantity': 75,\n",
              "  'Tax_Percentage': 5},\n",
              " '1001': {'MRP': 200.0,\n",
              "  'Our_Price': 180.0,\n",
              "  'Product_name': 'Towel',\n",
              "  'Quantity': 25,\n",
              "  'Tax_Percentage': 4},\n",
              " '1002': {'MRP': 40.0,\n",
              "  'Our_Price': 36.0,\n",
              "  'Product_name': 'Tooth paste',\n",
              "  'Quantity': 50,\n",
              "  'Tax_Percentage': 5},\n",
              " '1003': {'MRP': 55.0,\n",
              "  'Our_Price': 49.5,\n",
              "  'Product_name': 'Hand Wash',\n",
              "  'Quantity': 43,\n",
              "  'Tax_Percentage': 4},\n",
              " '1004': {'MRP': 25.0,\n",
              "  'Our_Price': 22.5,\n",
              "  'Product_name': 'Bread',\n",
              "  'Quantity': 27,\n",
              "  'Tax_Percentage': 3},\n",
              " '1005': {'MRP': 250.0,\n",
              "  'Our_Price': 225.0,\n",
              "  'Product_name': 'French Fries',\n",
              "  'Quantity': 20,\n",
              "  'Tax_Percentage': 7},\n",
              " '1006': {'MRP': 65.0,\n",
              "  'Our_Price': 58.5,\n",
              "  'Product_name': 'Lassi',\n",
              "  'Quantity': 36,\n",
              "  'Tax_Percentage': 7},\n",
              " '1007': {'MRP': 50.0,\n",
              "  'Our_Price': 45.0,\n",
              "  'Product_name': 'Vinegar',\n",
              "  'Quantity': 38,\n",
              "  'Tax_Percentage': 4},\n",
              " '1008': {'MRP': 90.0,\n",
              "  'Our_Price': 81.0,\n",
              "  'Product_name': 'Pencil Box',\n",
              "  'Quantity': 34,\n",
              "  'Tax_Percentage': 4},\n",
              " '1009': {'MRP': 60.0,\n",
              "  'Our_Price': 54.0,\n",
              "  'Product_name': 'Water Bottle',\n",
              "  'Quantity': 20,\n",
              "  'Tax_Percentage': 5},\n",
              " '1010': {'MRP': 105.0,\n",
              "  'Our_Price': 94.5,\n",
              "  'Product_name': 'Almonds',\n",
              "  'Quantity': 43,\n",
              "  'Tax_Percentage': 6},\n",
              " '1011': {'MRP': 230.0,\n",
              "  'Our_Price': 207.0,\n",
              "  'Product_name': 'Dates',\n",
              "  'Quantity': 45,\n",
              "  'Tax_Percentage': 5},\n",
              " '1012': {'MRP': 150.0,\n",
              "  'Our_Price': 135.0,\n",
              "  'Product_name': 'Perfume',\n",
              "  'Quantity': 39,\n",
              "  'Tax_Percentage': 8},\n",
              " '1013': {'MRP': 200.0,\n",
              "  'Our_Price': 180.0,\n",
              "  'Product_name': 'Kajal',\n",
              "  'Quantity': 42,\n",
              "  'Tax_Percentage': 8},\n",
              " '1014': {'MRP': 200.0,\n",
              "  'Our_Price': 180.0,\n",
              "  'Product_name': 'Shampoo',\n",
              "  'Quantity': 35,\n",
              "  'Tax_Percentage': 9},\n",
              " '1015': {'MRP': 30.0,\n",
              "  'Our_Price': 27.0,\n",
              "  'Product_name': 'Soap',\n",
              "  'Quantity': 50,\n",
              "  'Tax_Percentage': 5},\n",
              " '1016': {'MRP': 40.0,\n",
              "  'Our_Price': 36.0,\n",
              "  'Product_name': 'Tooth Brush',\n",
              "  'Quantity': 54,\n",
              "  'Tax_Percentage': 7},\n",
              " '1017': {'MRP': 30.0,\n",
              "  'Our_Price': 27.0,\n",
              "  'Product_name': 'Lays',\n",
              "  'Quantity': 50,\n",
              "  'Tax_Percentage': 4},\n",
              " '1018': {'MRP': 5.0,\n",
              "  'Our_Price': 4.5,\n",
              "  'Product_name': 'Eraser',\n",
              "  'Quantity': 55,\n",
              "  'Tax_Percentage': 3},\n",
              " '1019': {'MRP': 10.0,\n",
              "  'Our_Price': 9.0,\n",
              "  'Product_name': 'Pen',\n",
              "  'Quantity': 100,\n",
              "  'Tax_Percentage': 3},\n",
              " '1020': {'MRP': 6.0,\n",
              "  'Our_Price': 5.4,\n",
              "  'Product_name': 'Pencil',\n",
              "  'Quantity': 110,\n",
              "  'Tax_Percentage': 3},\n",
              " '1021': {'MRP': 5.0,\n",
              "  'Our_Price': 4.5,\n",
              "  'Product_name': 'Pencil Cutter',\n",
              "  'Quantity': 52,\n",
              "  'Tax_Percentage': 3},\n",
              " '1022': {'MRP': 5.0,\n",
              "  'Our_Price': 4.5,\n",
              "  'Product_name': 'Mask',\n",
              "  'Quantity': 90,\n",
              "  'Tax_Percentage': 2},\n",
              " '1023': {'MRP': 157.0,\n",
              "  'Our_Price': 141.3,\n",
              "  'Product_name': 'Horlicks',\n",
              "  'Quantity': 48,\n",
              "  'Tax_Percentage': 6},\n",
              " '1024': {'MRP': 102.0,\n",
              "  'Our_Price': 91.8,\n",
              "  'Product_name': 'Mustard Oil',\n",
              "  'Quantity': 45,\n",
              "  'Tax_Percentage': 5},\n",
              " '1025': {'MRP': 170.0,\n",
              "  'Our_Price': 153.0,\n",
              "  'Product_name': 'Soyabean Oil',\n",
              "  'Quantity': 38,\n",
              "  'Tax_Percentage': 6},\n",
              " '1026': {'MRP': 123.0,\n",
              "  'Our_Price': 110.7,\n",
              "  'Product_name': 'Tomato Sauce',\n",
              "  'Quantity': 58,\n",
              "  'Tax_Percentage': 6},\n",
              " '1027': {'MRP': 45.0,\n",
              "  'Our_Price': 40.5,\n",
              "  'Product_name': 'Soya Sauce',\n",
              "  'Quantity': 60,\n",
              "  'Tax_Percentage': 8},\n",
              " '1028': {'MRP': 40.0,\n",
              "  'Our_Price': 36.0,\n",
              "  'Product_name': 'Soyabean',\n",
              "  'Quantity': 50,\n",
              "  'Tax_Percentage': 8},\n",
              " '1029': {'MRP': 168.0,\n",
              "  'Our_Price': 151.20000000000002,\n",
              "  'Product_name': 'Cocoa Powder',\n",
              "  'Quantity': 33,\n",
              "  'Tax_Percentage': 6}}"
            ]
          },
          "metadata": {},
          "execution_count": 37
        }
      ]
    },
    {
      "cell_type": "code",
      "metadata": {
        "colab": {
          "base_uri": "https://localhost:8080/",
          "height": 137
        },
        "id": "QmiGqOu3dkrz",
        "outputId": "2f05bd28-3ffb-492c-bde6-9042c87697db"
      },
      "source": [
        "js"
      ],
      "execution_count": 38,
      "outputs": [
        {
          "output_type": "execute_result",
          "data": {
            "application/vnd.google.colaboratory.intrinsic+json": {
              "type": "string"
            },
            "text/plain": [
              "'{\"1000\": {\"Product_name\": \"Cadbury Dairy Milk\", \"MRP\": 50.0, \"Our_Price\": 45.0, \"Quantity\": 75, \"Tax_Percentage\": 5}, \"1001\": {\"Product_name\": \"Towel\", \"MRP\": 200.0, \"Our_Price\": 180.0, \"Quantity\": 25, \"Tax_Percentage\": 4}, \"1002\": {\"Product_name\": \"Tooth paste\", \"MRP\": 40.0, \"Our_Price\": 36.0, \"Quantity\": 50, \"Tax_Percentage\": 5}, \"1003\": {\"Product_name\": \"Hand Wash\", \"MRP\": 55.0, \"Our_Price\": 49.5, \"Quantity\": 43, \"Tax_Percentage\": 4}, \"1004\": {\"Product_name\": \"Bread\", \"MRP\": 25.0, \"Our_Price\": 22.5, \"Quantity\": 27, \"Tax_Percentage\": 3}, \"1005\": {\"Product_name\": \"French Fries\", \"MRP\": 250.0, \"Our_Price\": 225.0, \"Quantity\": 20, \"Tax_Percentage\": 7}, \"1006\": {\"Product_name\": \"Lassi\", \"MRP\": 65.0, \"Our_Price\": 58.5, \"Quantity\": 36, \"Tax_Percentage\": 7}, \"1007\": {\"Product_name\": \"Vinegar\", \"MRP\": 50.0, \"Our_Price\": 45.0, \"Quantity\": 38, \"Tax_Percentage\": 4}, \"1008\": {\"Product_name\": \"Pencil Box\", \"MRP\": 90.0, \"Our_Price\": 81.0, \"Quantity\": 34, \"Tax_Percentage\": 4}, \"1009\": {\"Product_name\": \"Water Bottle\", \"MRP\": 60.0, \"Our_Price\": 54.0, \"Quantity\": 20, \"Tax_Percentage\": 5}, \"1010\": {\"Product_name\": \"Almonds\", \"MRP\": 105.0, \"Our_Price\": 94.5, \"Quantity\": 43, \"Tax_Percentage\": 6}, \"1011\": {\"Product_name\": \"Dates\", \"MRP\": 230.0, \"Our_Price\": 207.0, \"Quantity\": 45, \"Tax_Percentage\": 5}, \"1012\": {\"Product_name\": \"Perfume\", \"MRP\": 150.0, \"Our_Price\": 135.0, \"Quantity\": 39, \"Tax_Percentage\": 8}, \"1013\": {\"Product_name\": \"Kajal\", \"MRP\": 200.0, \"Our_Price\": 180.0, \"Quantity\": 42, \"Tax_Percentage\": 8}, \"1014\": {\"Product_name\": \"Shampoo\", \"MRP\": 200.0, \"Our_Price\": 180.0, \"Quantity\": 35, \"Tax_Percentage\": 9}, \"1015\": {\"Product_name\": \"Soap\", \"MRP\": 30.0, \"Our_Price\": 27.0, \"Quantity\": 50, \"Tax_Percentage\": 5}, \"1016\": {\"Product_name\": \"Tooth Brush\", \"MRP\": 40.0, \"Our_Price\": 36.0, \"Quantity\": 54, \"Tax_Percentage\": 7}, \"1017\": {\"Product_name\": \"Lays\", \"MRP\": 30.0, \"Our_Price\": 27.0, \"Quantity\": 50, \"Tax_Percentage\": 4}, \"1018\": {\"Product_name\": \"Eraser\", \"MRP\": 5.0, \"Our_Price\": 4.5, \"Quantity\": 55, \"Tax_Percentage\": 3}, \"1019\": {\"Product_name\": \"Pen\", \"MRP\": 10.0, \"Our_Price\": 9.0, \"Quantity\": 100, \"Tax_Percentage\": 3}, \"1020\": {\"Product_name\": \"Pencil\", \"MRP\": 6.0, \"Our_Price\": 5.4, \"Quantity\": 110, \"Tax_Percentage\": 3}, \"1021\": {\"Product_name\": \"Pencil Cutter\", \"MRP\": 5.0, \"Our_Price\": 4.5, \"Quantity\": 52, \"Tax_Percentage\": 3}, \"1022\": {\"Product_name\": \"Mask\", \"MRP\": 5.0, \"Our_Price\": 4.5, \"Quantity\": 90, \"Tax_Percentage\": 2}, \"1023\": {\"Product_name\": \"Horlicks\", \"MRP\": 157.0, \"Our_Price\": 141.3, \"Quantity\": 48, \"Tax_Percentage\": 6}, \"1024\": {\"Product_name\": \"Mustard Oil\", \"MRP\": 102.0, \"Our_Price\": 91.8, \"Quantity\": 45, \"Tax_Percentage\": 5}, \"1025\": {\"Product_name\": \"Soyabean Oil\", \"MRP\": 170.0, \"Our_Price\": 153.0, \"Quantity\": 38, \"Tax_Percentage\": 6}, \"1026\": {\"Product_name\": \"Tomato Sauce\", \"MRP\": 123.0, \"Our_Price\": 110.7, \"Quantity\": 58, \"Tax_Percentage\": 6}, \"1027\": {\"Product_name\": \"Soya Sauce\", \"MRP\": 45.0, \"Our_Price\": 40.5, \"Quantity\": 60, \"Tax_Percentage\": 8}, \"1028\": {\"Product_name\": \"Soyabean\", \"MRP\": 40.0, \"Our_Price\": 36.0, \"Quantity\": 50, \"Tax_Percentage\": 8}, \"1029\": {\"Product_name\": \"Cocoa Powder\", \"MRP\": 168.0, \"Our_Price\": 151.20000000000002, \"Quantity\": 33, \"Tax_Percentage\": 6}}'"
            ]
          },
          "metadata": {},
          "execution_count": 38
        }
      ]
    },
    {
      "cell_type": "code",
      "metadata": {
        "id": "WU3n6FzlnBwg"
      },
      "source": [
        "fd = open(\"record.json\",'w')\n",
        "fd.write(js)\n",
        "fd.close()"
      ],
      "execution_count": 39,
      "outputs": []
    }
  ]
}